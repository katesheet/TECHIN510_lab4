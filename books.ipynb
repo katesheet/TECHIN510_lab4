{
 "cells": [
  {
   "cell_type": "code",
   "execution_count": 1,
   "metadata": {},
   "outputs": [],
   "source": [
    "from bs4 import BeautifulSoup\n",
    "import requests"
   ]
  },
  {
   "cell_type": "code",
   "execution_count": 32,
   "metadata": {},
   "outputs": [
    {
     "data": {
      "text/plain": [
       "200"
      ]
     },
     "execution_count": 32,
     "metadata": {},
     "output_type": "execute_result"
    }
   ],
   "source": [
    "URL= f'https://books.toscrape.com/catalogue/page-{1}.html'\n",
    "\n",
    "res = requests.get(URL)\n",
    "res.status_code"
   ]
  },
  {
   "cell_type": "code",
   "execution_count": null,
   "metadata": {},
   "outputs": [],
   "source": [
    "soup = BeautifulSoup(res.text, 'html.parser')"
   ]
  },
  {
   "cell_type": "code",
   "execution_count": 28,
   "metadata": {},
   "outputs": [
    {
     "name": "stdout",
     "output_type": "stream",
     "text": [
      "A Light in the Attic 51.77 Three In stock\n",
      "Tipping the Velvet 53.74 One In stock\n",
      "Soumission 50.10 One In stock\n",
      "Sharp Objects 47.82 Four In stock\n",
      "Sapiens: A Brief History of Humankind 54.23 Five In stock\n",
      "The Requiem Red 22.65 One In stock\n",
      "The Dirty Little Secrets of Getting Your Dream Job 33.34 Four In stock\n",
      "The Coming Woman: A Novel Based on the Life of the Infamous Feminist, Victoria Woodhull 17.93 Three In stock\n",
      "The Boys in the Boat: Nine Americans and Their Epic Quest for Gold at the 1936 Berlin Olympics 22.60 Four In stock\n",
      "The Black Maria 52.15 One In stock\n",
      "Starving Hearts (Triangular Trade Trilogy, #1) 13.99 Two In stock\n",
      "Shakespeare's Sonnets 20.66 Four In stock\n",
      "Set Me Free 17.46 Five In stock\n",
      "Scott Pilgrim's Precious Little Life (Scott Pilgrim #1) 52.29 Five In stock\n",
      "Rip it Up and Start Again 35.02 Five In stock\n",
      "Our Band Could Be Your Life: Scenes from the American Indie Underground, 1981-1991 57.25 Three In stock\n",
      "Olio 23.88 One In stock\n",
      "Mesaerion: The Best Science Fiction Stories 1800-1849 37.59 One In stock\n",
      "Libertarianism for Beginners 51.33 Two In stock\n",
      "It's Only the Himalayas 45.17 Two In stock\n"
     ]
    }
   ],
   "source": [
    "result = soup.select('article')\n",
    "for book in result:\n",
    "    # book = result[0]\n",
    "    # print(book)\n",
    "    # print()\n",
    "    rating = book.select('p')[0]['class'][-1]\n",
    "\n",
    "    stock = book.select('p.instock.availability')[0].text.strip()\n",
    "\n",
    "    title = book.select('a')[1]['title']\n",
    "    price = book.select('p.price_color')[0].text[2:]\n",
    "\n",
    "    print(title, price, rating, stock)"
   ]
  },
  {
   "cell_type": "code",
   "execution_count": 1,
   "metadata": {},
   "outputs": [
    {
     "data": {
      "text/plain": [
       "'three'"
      ]
     },
     "execution_count": 1,
     "metadata": {},
     "output_type": "execute_result"
    }
   ],
   "source": [
    "'Three'.lower()"
   ]
  },
  {
   "cell_type": "code",
   "execution_count": 2,
   "metadata": {},
   "outputs": [
    {
     "data": {
      "text/plain": [
       "{'a': 'zyz', 'b': 'ck'}"
      ]
     },
     "execution_count": 2,
     "metadata": {},
     "output_type": "execute_result"
    }
   ],
   "source": [
    "d = {}\n",
    "d['a'] = 'zyz'\n",
    "d['b'] = 'ck'\n",
    "d"
   ]
  }
 ],
 "metadata": {
  "kernelspec": {
   "display_name": "py310",
   "language": "python",
   "name": "python3"
  },
  "language_info": {
   "codemirror_mode": {
    "name": "ipython",
    "version": 3
   },
   "file_extension": ".py",
   "mimetype": "text/x-python",
   "name": "python",
   "nbconvert_exporter": "python",
   "pygments_lexer": "ipython3",
   "version": "3.10.11"
  }
 },
 "nbformat": 4,
 "nbformat_minor": 2
}
